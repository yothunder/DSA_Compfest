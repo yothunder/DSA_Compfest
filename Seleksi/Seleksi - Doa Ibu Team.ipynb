{
 "cells": [
  {
   "cell_type": "markdown",
   "id": "2144005b",
   "metadata": {},
   "source": [
    "# Problem Statement"
   ]
  },
  {
   "cell_type": "markdown",
   "id": "ef7afdc5",
   "metadata": {},
   "source": [
    "COVID-19 telah menjadi permasalahan global beberapa tahun terakhir di seluruh negara karena berdampak pada sektor-sektor yang penting dalam kehidupan. Beberapa kebijakan telah dikeluarkan oleh pemerintah setempat untuk mencegah COVID-19 dan hingga hari ini kebijakan tersebut dikeluarkan sesuai dengan keadaan tren COVID-19 di suatu wilayah, sampai pada suatu titik dimana beberapa wilayah telah menjadikan COVID-19 sebagai endemi. Menurut Pusat Pengendalian dan Pencegahan Penyakit Amerika (CDC), endemi mengacu pada kehadiran suatu wabah penyakit terus menerus pada populasi di bentang geografis tertentu, seperti satu wilayah, negara, atau benua.\n",
    "\n",
    "Kebijakan tiap wilayah yang berbeda dalam menyikapi COVID-19 menjadikan diri sendiri dan orang sekitar sebagai pelaku utama dalam penanganan COVID-19 harus mampu mengendalikan diri. Penanganan COVID-19 tidak akan jauh dari pengendalian mobilitas masyarakat di suatu wilayah, seberapa baik kebijakan yang dikeluarkan pemerintah untuk mengendalikan mobilitas, tentunya menjadikan diri pribadi sebagai aktor yang paling berperan. sehingga dibutuhkan sarana dalam pengambilan keputusan masyarakat dalam kegiatan di luar ruangan dan berpergian ke suatu wilayah."
   ]
  },
  {
   "cell_type": "markdown",
   "id": "3772217a",
   "metadata": {},
   "source": [
    "Berdasarkan masalah di atas, tim kami berusaha membuat model prediksi risk assessment level di suatu wilayah menggunakan data COVID-19 Global. sehingga, pengguna hanya perlu mengetahui perkembangan terakhir COVID-19 di wilayah yang dituju dan mendapatkan kategori wilayah yang di tuju."
   ]
  },
  {
   "cell_type": "markdown",
   "id": "b444c78b",
   "metadata": {},
   "source": [
    "# Clustering"
   ]
  },
  {
   "cell_type": "markdown",
   "id": "d8687c16",
   "metadata": {},
   "source": [
    "Pada clustering, data akan dibuat clustering target data berupa risk assesment level COVID-19 yang akan menjadi rekomendasi untuk perjalanan luar negeri. Hal ini di dasarkan dari Risk Assessment Level COVID-19 yang dilakukan oleh Centers for Disease Control and Prevention (CDC).\n",
    "\n",
    "Hasil clustering nantinya akan diolah kembali untuk menghasilkan prediksi resiko penularan covid-19 pada tujuan perjalanan."
   ]
  },
  {
   "cell_type": "code",
   "execution_count": 11,
   "id": "17151f91",
   "metadata": {},
   "outputs": [],
   "source": [
    "import pandas as pd\n",
    "import numpy as np\n",
    "import matplotlib.pyplot as plt"
   ]
  },
  {
   "cell_type": "code",
   "execution_count": 12,
   "id": "91a9e96c",
   "metadata": {},
   "outputs": [],
   "source": [
    "plt.style.use('seaborn')"
   ]
  },
  {
   "cell_type": "markdown",
   "id": "43a42d45",
   "metadata": {},
   "source": [
    "### Data Loading"
   ]
  },
  {
   "cell_type": "markdown",
   "id": "333b70d3",
   "metadata": {},
   "source": [
    "Dataset yang digunakan dalam tugas kali ini bersumber dari (https://www.kaggle.com/sudalairajkumar/novel-corona-virus-2019-dataset)\n",
    "\n",
    "Berdasarkan data ini akan dilakukan clustering dari angka confirmed, deaths, recorvered. Untuk menjadi rekomendasi perjalanan"
   ]
  },
  {
   "cell_type": "code",
   "execution_count": 13,
   "id": "a89f0d77",
   "metadata": {},
   "outputs": [],
   "source": [
    "df = pd.read_csv('covid_19_data.csv')"
   ]
  },
  {
   "cell_type": "markdown",
   "id": "21d3195e",
   "metadata": {},
   "source": [
    "## EDA"
   ]
  },
  {
   "cell_type": "code",
   "execution_count": 14,
   "id": "ee42f419",
   "metadata": {},
   "outputs": [
    {
     "data": {
      "text/plain": [
       "(306429, 8)"
      ]
     },
     "execution_count": 14,
     "metadata": {},
     "output_type": "execute_result"
    }
   ],
   "source": [
    "df.shape"
   ]
  },
  {
   "cell_type": "code",
   "execution_count": 15,
   "id": "7bacb2fa",
   "metadata": {},
   "outputs": [
    {
     "data": {
      "text/html": [
       "<div>\n",
       "<style scoped>\n",
       "    .dataframe tbody tr th:only-of-type {\n",
       "        vertical-align: middle;\n",
       "    }\n",
       "\n",
       "    .dataframe tbody tr th {\n",
       "        vertical-align: top;\n",
       "    }\n",
       "\n",
       "    .dataframe thead th {\n",
       "        text-align: right;\n",
       "    }\n",
       "</style>\n",
       "<table border=\"1\" class=\"dataframe\">\n",
       "  <thead>\n",
       "    <tr style=\"text-align: right;\">\n",
       "      <th></th>\n",
       "      <th>SNo</th>\n",
       "      <th>ObservationDate</th>\n",
       "      <th>Province/State</th>\n",
       "      <th>Country/Region</th>\n",
       "      <th>Last Update</th>\n",
       "      <th>Confirmed</th>\n",
       "      <th>Deaths</th>\n",
       "      <th>Recovered</th>\n",
       "    </tr>\n",
       "  </thead>\n",
       "  <tbody>\n",
       "    <tr>\n",
       "      <th>0</th>\n",
       "      <td>1</td>\n",
       "      <td>01/22/2020</td>\n",
       "      <td>Anhui</td>\n",
       "      <td>Mainland China</td>\n",
       "      <td>1/22/2020 17:00</td>\n",
       "      <td>1.0</td>\n",
       "      <td>0.0</td>\n",
       "      <td>0.0</td>\n",
       "    </tr>\n",
       "    <tr>\n",
       "      <th>1</th>\n",
       "      <td>2</td>\n",
       "      <td>01/22/2020</td>\n",
       "      <td>Beijing</td>\n",
       "      <td>Mainland China</td>\n",
       "      <td>1/22/2020 17:00</td>\n",
       "      <td>14.0</td>\n",
       "      <td>0.0</td>\n",
       "      <td>0.0</td>\n",
       "    </tr>\n",
       "    <tr>\n",
       "      <th>2</th>\n",
       "      <td>3</td>\n",
       "      <td>01/22/2020</td>\n",
       "      <td>Chongqing</td>\n",
       "      <td>Mainland China</td>\n",
       "      <td>1/22/2020 17:00</td>\n",
       "      <td>6.0</td>\n",
       "      <td>0.0</td>\n",
       "      <td>0.0</td>\n",
       "    </tr>\n",
       "    <tr>\n",
       "      <th>3</th>\n",
       "      <td>4</td>\n",
       "      <td>01/22/2020</td>\n",
       "      <td>Fujian</td>\n",
       "      <td>Mainland China</td>\n",
       "      <td>1/22/2020 17:00</td>\n",
       "      <td>1.0</td>\n",
       "      <td>0.0</td>\n",
       "      <td>0.0</td>\n",
       "    </tr>\n",
       "    <tr>\n",
       "      <th>4</th>\n",
       "      <td>5</td>\n",
       "      <td>01/22/2020</td>\n",
       "      <td>Gansu</td>\n",
       "      <td>Mainland China</td>\n",
       "      <td>1/22/2020 17:00</td>\n",
       "      <td>0.0</td>\n",
       "      <td>0.0</td>\n",
       "      <td>0.0</td>\n",
       "    </tr>\n",
       "  </tbody>\n",
       "</table>\n",
       "</div>"
      ],
      "text/plain": [
       "   SNo ObservationDate Province/State  Country/Region      Last Update  \\\n",
       "0    1      01/22/2020          Anhui  Mainland China  1/22/2020 17:00   \n",
       "1    2      01/22/2020        Beijing  Mainland China  1/22/2020 17:00   \n",
       "2    3      01/22/2020      Chongqing  Mainland China  1/22/2020 17:00   \n",
       "3    4      01/22/2020         Fujian  Mainland China  1/22/2020 17:00   \n",
       "4    5      01/22/2020          Gansu  Mainland China  1/22/2020 17:00   \n",
       "\n",
       "   Confirmed  Deaths  Recovered  \n",
       "0        1.0     0.0        0.0  \n",
       "1       14.0     0.0        0.0  \n",
       "2        6.0     0.0        0.0  \n",
       "3        1.0     0.0        0.0  \n",
       "4        0.0     0.0        0.0  "
      ]
     },
     "execution_count": 15,
     "metadata": {},
     "output_type": "execute_result"
    }
   ],
   "source": [
    "df.head()"
   ]
  },
  {
   "cell_type": "code",
   "execution_count": 16,
   "id": "f82058a8",
   "metadata": {},
   "outputs": [
    {
     "data": {
      "text/plain": [
       "SNo                    0\n",
       "ObservationDate        0\n",
       "Province/State     78100\n",
       "Country/Region         0\n",
       "Last Update            0\n",
       "Confirmed              0\n",
       "Deaths                 0\n",
       "Recovered              0\n",
       "dtype: int64"
      ]
     },
     "execution_count": 16,
     "metadata": {},
     "output_type": "execute_result"
    }
   ],
   "source": [
    "df.isnull().sum()"
   ]
  },
  {
   "cell_type": "markdown",
   "id": "36b96247",
   "metadata": {},
   "source": [
    "### Data Cleaning"
   ]
  },
  {
   "cell_type": "code",
   "execution_count": 17,
   "id": "bd30e12f",
   "metadata": {},
   "outputs": [
    {
     "data": {
      "text/html": [
       "<div>\n",
       "<style scoped>\n",
       "    .dataframe tbody tr th:only-of-type {\n",
       "        vertical-align: middle;\n",
       "    }\n",
       "\n",
       "    .dataframe tbody tr th {\n",
       "        vertical-align: top;\n",
       "    }\n",
       "\n",
       "    .dataframe thead th {\n",
       "        text-align: right;\n",
       "    }\n",
       "</style>\n",
       "<table border=\"1\" class=\"dataframe\">\n",
       "  <thead>\n",
       "    <tr style=\"text-align: right;\">\n",
       "      <th></th>\n",
       "      <th>Confirmed</th>\n",
       "      <th>Deaths</th>\n",
       "      <th>Recovered</th>\n",
       "    </tr>\n",
       "  </thead>\n",
       "  <tbody>\n",
       "    <tr>\n",
       "      <th>0</th>\n",
       "      <td>1.0</td>\n",
       "      <td>0.0</td>\n",
       "      <td>0.0</td>\n",
       "    </tr>\n",
       "    <tr>\n",
       "      <th>1</th>\n",
       "      <td>14.0</td>\n",
       "      <td>0.0</td>\n",
       "      <td>0.0</td>\n",
       "    </tr>\n",
       "    <tr>\n",
       "      <th>2</th>\n",
       "      <td>6.0</td>\n",
       "      <td>0.0</td>\n",
       "      <td>0.0</td>\n",
       "    </tr>\n",
       "    <tr>\n",
       "      <th>3</th>\n",
       "      <td>1.0</td>\n",
       "      <td>0.0</td>\n",
       "      <td>0.0</td>\n",
       "    </tr>\n",
       "    <tr>\n",
       "      <th>4</th>\n",
       "      <td>0.0</td>\n",
       "      <td>0.0</td>\n",
       "      <td>0.0</td>\n",
       "    </tr>\n",
       "    <tr>\n",
       "      <th>...</th>\n",
       "      <td>...</td>\n",
       "      <td>...</td>\n",
       "      <td>...</td>\n",
       "    </tr>\n",
       "    <tr>\n",
       "      <th>306424</th>\n",
       "      <td>102641.0</td>\n",
       "      <td>2335.0</td>\n",
       "      <td>95289.0</td>\n",
       "    </tr>\n",
       "    <tr>\n",
       "      <th>306425</th>\n",
       "      <td>29147.0</td>\n",
       "      <td>245.0</td>\n",
       "      <td>0.0</td>\n",
       "    </tr>\n",
       "    <tr>\n",
       "      <th>306426</th>\n",
       "      <td>1364.0</td>\n",
       "      <td>1.0</td>\n",
       "      <td>1324.0</td>\n",
       "    </tr>\n",
       "    <tr>\n",
       "      <th>306427</th>\n",
       "      <td>87550.0</td>\n",
       "      <td>1738.0</td>\n",
       "      <td>83790.0</td>\n",
       "    </tr>\n",
       "    <tr>\n",
       "      <th>306428</th>\n",
       "      <td>391559.0</td>\n",
       "      <td>4252.0</td>\n",
       "      <td>0.0</td>\n",
       "    </tr>\n",
       "  </tbody>\n",
       "</table>\n",
       "<p>306429 rows × 3 columns</p>\n",
       "</div>"
      ],
      "text/plain": [
       "        Confirmed  Deaths  Recovered\n",
       "0             1.0     0.0        0.0\n",
       "1            14.0     0.0        0.0\n",
       "2             6.0     0.0        0.0\n",
       "3             1.0     0.0        0.0\n",
       "4             0.0     0.0        0.0\n",
       "...           ...     ...        ...\n",
       "306424   102641.0  2335.0    95289.0\n",
       "306425    29147.0   245.0        0.0\n",
       "306426     1364.0     1.0     1324.0\n",
       "306427    87550.0  1738.0    83790.0\n",
       "306428   391559.0  4252.0        0.0\n",
       "\n",
       "[306429 rows x 3 columns]"
      ]
     },
     "execution_count": 17,
     "metadata": {},
     "output_type": "execute_result"
    }
   ],
   "source": [
    "data = df.drop([\"SNo\",\"ObservationDate\",\"Last Update\",\"Province/State\",\"Country/Region\"], axis=1)\n",
    "data"
   ]
  },
  {
   "cell_type": "code",
   "execution_count": 18,
   "id": "1134cf7a",
   "metadata": {},
   "outputs": [
    {
     "data": {
      "text/plain": [
       "array([[1.00000e+00, 0.00000e+00, 0.00000e+00],\n",
       "       [1.40000e+01, 0.00000e+00, 0.00000e+00],\n",
       "       [6.00000e+00, 0.00000e+00, 0.00000e+00],\n",
       "       ...,\n",
       "       [1.36400e+03, 1.00000e+00, 1.32400e+03],\n",
       "       [8.75500e+04, 1.73800e+03, 8.37900e+04],\n",
       "       [3.91559e+05, 4.25200e+03, 0.00000e+00]])"
      ]
     },
     "execution_count": 18,
     "metadata": {},
     "output_type": "execute_result"
    }
   ],
   "source": [
    "array_data = np.array(data)\n",
    "array_data"
   ]
  },
  {
   "cell_type": "code",
   "execution_count": 19,
   "id": "2818276e",
   "metadata": {},
   "outputs": [
    {
     "name": "stdout",
     "output_type": "stream",
     "text": [
      "<class 'pandas.core.frame.DataFrame'>\n",
      "RangeIndex: 306429 entries, 0 to 306428\n",
      "Data columns (total 3 columns):\n",
      " #   Column     Non-Null Count   Dtype  \n",
      "---  ------     --------------   -----  \n",
      " 0   Confirmed  306429 non-null  float64\n",
      " 1   Deaths     306429 non-null  float64\n",
      " 2   Recovered  306429 non-null  float64\n",
      "dtypes: float64(3)\n",
      "memory usage: 7.0 MB\n"
     ]
    }
   ],
   "source": [
    "data.info()"
   ]
  },
  {
   "cell_type": "markdown",
   "id": "af3dd971",
   "metadata": {},
   "source": [
    "### Data Preprocessing"
   ]
  },
  {
   "cell_type": "markdown",
   "id": "ee72eb9c",
   "metadata": {},
   "source": [
    "#### Standarization"
   ]
  },
  {
   "cell_type": "code",
   "execution_count": 20,
   "id": "ba10f13c",
   "metadata": {},
   "outputs": [],
   "source": [
    "from sklearn.preprocessing import MinMaxScaler"
   ]
  },
  {
   "cell_type": "code",
   "execution_count": 21,
   "id": "c825756a",
   "metadata": {},
   "outputs": [
    {
     "data": {
      "text/plain": [
       "array([[0.04911545, 0.00158134, 0.11778502],\n",
       "       [0.04911756, 0.00158134, 0.11778502],\n",
       "       [0.04911626, 0.00158134, 0.11778502],\n",
       "       ...,\n",
       "       [0.0493365 , 0.00159022, 0.11796754],\n",
       "       [0.06331416, 0.01702158, 0.12933599],\n",
       "       [0.1126184 , 0.03935574, 0.11778502]])"
      ]
     },
     "execution_count": 21,
     "metadata": {},
     "output_type": "execute_result"
    }
   ],
   "source": [
    "scaler_minmax = MinMaxScaler()\n",
    "scaled_data = scaler_minmax.fit_transform(data)\n",
    "scaled_data"
   ]
  },
  {
   "cell_type": "code",
   "execution_count": 22,
   "id": "a12bc29c",
   "metadata": {},
   "outputs": [
    {
     "data": {
      "text/html": [
       "<div>\n",
       "<style scoped>\n",
       "    .dataframe tbody tr th:only-of-type {\n",
       "        vertical-align: middle;\n",
       "    }\n",
       "\n",
       "    .dataframe tbody tr th {\n",
       "        vertical-align: top;\n",
       "    }\n",
       "\n",
       "    .dataframe thead tr th {\n",
       "        text-align: left;\n",
       "    }\n",
       "</style>\n",
       "<table border=\"1\" class=\"dataframe\">\n",
       "  <thead>\n",
       "    <tr>\n",
       "      <th></th>\n",
       "      <th>Confirmed</th>\n",
       "      <th>Death</th>\n",
       "      <th>Recovered</th>\n",
       "    </tr>\n",
       "  </thead>\n",
       "  <tbody>\n",
       "    <tr>\n",
       "      <th>0</th>\n",
       "      <td>0.049115</td>\n",
       "      <td>0.001581</td>\n",
       "      <td>0.117785</td>\n",
       "    </tr>\n",
       "    <tr>\n",
       "      <th>1</th>\n",
       "      <td>0.049118</td>\n",
       "      <td>0.001581</td>\n",
       "      <td>0.117785</td>\n",
       "    </tr>\n",
       "    <tr>\n",
       "      <th>2</th>\n",
       "      <td>0.049116</td>\n",
       "      <td>0.001581</td>\n",
       "      <td>0.117785</td>\n",
       "    </tr>\n",
       "    <tr>\n",
       "      <th>3</th>\n",
       "      <td>0.049115</td>\n",
       "      <td>0.001581</td>\n",
       "      <td>0.117785</td>\n",
       "    </tr>\n",
       "    <tr>\n",
       "      <th>4</th>\n",
       "      <td>0.049115</td>\n",
       "      <td>0.001581</td>\n",
       "      <td>0.117785</td>\n",
       "    </tr>\n",
       "    <tr>\n",
       "      <th>...</th>\n",
       "      <td>...</td>\n",
       "      <td>...</td>\n",
       "      <td>...</td>\n",
       "    </tr>\n",
       "    <tr>\n",
       "      <th>306424</th>\n",
       "      <td>0.065762</td>\n",
       "      <td>0.022325</td>\n",
       "      <td>0.130921</td>\n",
       "    </tr>\n",
       "    <tr>\n",
       "      <th>306425</th>\n",
       "      <td>0.053842</td>\n",
       "      <td>0.003758</td>\n",
       "      <td>0.117785</td>\n",
       "    </tr>\n",
       "    <tr>\n",
       "      <th>306426</th>\n",
       "      <td>0.049337</td>\n",
       "      <td>0.001590</td>\n",
       "      <td>0.117968</td>\n",
       "    </tr>\n",
       "    <tr>\n",
       "      <th>306427</th>\n",
       "      <td>0.063314</td>\n",
       "      <td>0.017022</td>\n",
       "      <td>0.129336</td>\n",
       "    </tr>\n",
       "    <tr>\n",
       "      <th>306428</th>\n",
       "      <td>0.112618</td>\n",
       "      <td>0.039356</td>\n",
       "      <td>0.117785</td>\n",
       "    </tr>\n",
       "  </tbody>\n",
       "</table>\n",
       "<p>306429 rows × 3 columns</p>\n",
       "</div>"
      ],
      "text/plain": [
       "       Confirmed     Death Recovered\n",
       "0       0.049115  0.001581  0.117785\n",
       "1       0.049118  0.001581  0.117785\n",
       "2       0.049116  0.001581  0.117785\n",
       "3       0.049115  0.001581  0.117785\n",
       "4       0.049115  0.001581  0.117785\n",
       "...          ...       ...       ...\n",
       "306424  0.065762  0.022325  0.130921\n",
       "306425  0.053842  0.003758  0.117785\n",
       "306426  0.049337  0.001590  0.117968\n",
       "306427  0.063314  0.017022  0.129336\n",
       "306428  0.112618  0.039356  0.117785\n",
       "\n",
       "[306429 rows x 3 columns]"
      ]
     },
     "execution_count": 22,
     "metadata": {},
     "output_type": "execute_result"
    }
   ],
   "source": [
    "data_scaled = pd.DataFrame(scaled_data, columns=[['Confirmed','Death','Recovered']])\n",
    "data_scaled"
   ]
  },
  {
   "cell_type": "markdown",
   "id": "ca0aad86",
   "metadata": {},
   "source": [
    "### Data Modelling"
   ]
  },
  {
   "cell_type": "code",
   "execution_count": 23,
   "id": "d965edd0",
   "metadata": {},
   "outputs": [],
   "source": [
    "from sklearn.cluster import KMeans"
   ]
  },
  {
   "cell_type": "code",
   "execution_count": 24,
   "id": "9d5e13f6",
   "metadata": {},
   "outputs": [],
   "source": [
    "k_means = KMeans(n_clusters=5, init='random', max_iter=300, random_state=20)\n",
    "km = k_means.fit_predict(scaled_data)"
   ]
  },
  {
   "cell_type": "code",
   "execution_count": 25,
   "id": "77c7a4bb",
   "metadata": {},
   "outputs": [
    {
     "data": {
      "text/html": [
       "<div>\n",
       "<style scoped>\n",
       "    .dataframe tbody tr th:only-of-type {\n",
       "        vertical-align: middle;\n",
       "    }\n",
       "\n",
       "    .dataframe tbody tr th {\n",
       "        vertical-align: top;\n",
       "    }\n",
       "\n",
       "    .dataframe thead th {\n",
       "        text-align: right;\n",
       "    }\n",
       "</style>\n",
       "<table border=\"1\" class=\"dataframe\">\n",
       "  <thead>\n",
       "    <tr style=\"text-align: right;\">\n",
       "      <th></th>\n",
       "      <th>SNo</th>\n",
       "      <th>ObservationDate</th>\n",
       "      <th>Province/State</th>\n",
       "      <th>Country/Region</th>\n",
       "      <th>Last Update</th>\n",
       "      <th>Confirmed</th>\n",
       "      <th>Deaths</th>\n",
       "      <th>Recovered</th>\n",
       "      <th>Risk Assesment Level</th>\n",
       "    </tr>\n",
       "  </thead>\n",
       "  <tbody>\n",
       "    <tr>\n",
       "      <th>0</th>\n",
       "      <td>1</td>\n",
       "      <td>01/22/2020</td>\n",
       "      <td>Anhui</td>\n",
       "      <td>Mainland China</td>\n",
       "      <td>1/22/2020 17:00</td>\n",
       "      <td>1.0</td>\n",
       "      <td>0.0</td>\n",
       "      <td>0.0</td>\n",
       "      <td>3</td>\n",
       "    </tr>\n",
       "    <tr>\n",
       "      <th>1</th>\n",
       "      <td>2</td>\n",
       "      <td>01/22/2020</td>\n",
       "      <td>Beijing</td>\n",
       "      <td>Mainland China</td>\n",
       "      <td>1/22/2020 17:00</td>\n",
       "      <td>14.0</td>\n",
       "      <td>0.0</td>\n",
       "      <td>0.0</td>\n",
       "      <td>3</td>\n",
       "    </tr>\n",
       "    <tr>\n",
       "      <th>2</th>\n",
       "      <td>3</td>\n",
       "      <td>01/22/2020</td>\n",
       "      <td>Chongqing</td>\n",
       "      <td>Mainland China</td>\n",
       "      <td>1/22/2020 17:00</td>\n",
       "      <td>6.0</td>\n",
       "      <td>0.0</td>\n",
       "      <td>0.0</td>\n",
       "      <td>3</td>\n",
       "    </tr>\n",
       "    <tr>\n",
       "      <th>3</th>\n",
       "      <td>4</td>\n",
       "      <td>01/22/2020</td>\n",
       "      <td>Fujian</td>\n",
       "      <td>Mainland China</td>\n",
       "      <td>1/22/2020 17:00</td>\n",
       "      <td>1.0</td>\n",
       "      <td>0.0</td>\n",
       "      <td>0.0</td>\n",
       "      <td>3</td>\n",
       "    </tr>\n",
       "    <tr>\n",
       "      <th>4</th>\n",
       "      <td>5</td>\n",
       "      <td>01/22/2020</td>\n",
       "      <td>Gansu</td>\n",
       "      <td>Mainland China</td>\n",
       "      <td>1/22/2020 17:00</td>\n",
       "      <td>0.0</td>\n",
       "      <td>0.0</td>\n",
       "      <td>0.0</td>\n",
       "      <td>3</td>\n",
       "    </tr>\n",
       "    <tr>\n",
       "      <th>...</th>\n",
       "      <td>...</td>\n",
       "      <td>...</td>\n",
       "      <td>...</td>\n",
       "      <td>...</td>\n",
       "      <td>...</td>\n",
       "      <td>...</td>\n",
       "      <td>...</td>\n",
       "      <td>...</td>\n",
       "      <td>...</td>\n",
       "    </tr>\n",
       "    <tr>\n",
       "      <th>306424</th>\n",
       "      <td>306425</td>\n",
       "      <td>05/29/2021</td>\n",
       "      <td>Zaporizhia Oblast</td>\n",
       "      <td>Ukraine</td>\n",
       "      <td>2021-05-30 04:20:55</td>\n",
       "      <td>102641.0</td>\n",
       "      <td>2335.0</td>\n",
       "      <td>95289.0</td>\n",
       "      <td>3</td>\n",
       "    </tr>\n",
       "    <tr>\n",
       "      <th>306425</th>\n",
       "      <td>306426</td>\n",
       "      <td>05/29/2021</td>\n",
       "      <td>Zeeland</td>\n",
       "      <td>Netherlands</td>\n",
       "      <td>2021-05-30 04:20:55</td>\n",
       "      <td>29147.0</td>\n",
       "      <td>245.0</td>\n",
       "      <td>0.0</td>\n",
       "      <td>3</td>\n",
       "    </tr>\n",
       "    <tr>\n",
       "      <th>306426</th>\n",
       "      <td>306427</td>\n",
       "      <td>05/29/2021</td>\n",
       "      <td>Zhejiang</td>\n",
       "      <td>Mainland China</td>\n",
       "      <td>2021-05-30 04:20:55</td>\n",
       "      <td>1364.0</td>\n",
       "      <td>1.0</td>\n",
       "      <td>1324.0</td>\n",
       "      <td>3</td>\n",
       "    </tr>\n",
       "    <tr>\n",
       "      <th>306427</th>\n",
       "      <td>306428</td>\n",
       "      <td>05/29/2021</td>\n",
       "      <td>Zhytomyr Oblast</td>\n",
       "      <td>Ukraine</td>\n",
       "      <td>2021-05-30 04:20:55</td>\n",
       "      <td>87550.0</td>\n",
       "      <td>1738.0</td>\n",
       "      <td>83790.0</td>\n",
       "      <td>3</td>\n",
       "    </tr>\n",
       "    <tr>\n",
       "      <th>306428</th>\n",
       "      <td>306429</td>\n",
       "      <td>05/29/2021</td>\n",
       "      <td>Zuid-Holland</td>\n",
       "      <td>Netherlands</td>\n",
       "      <td>2021-05-30 04:20:55</td>\n",
       "      <td>391559.0</td>\n",
       "      <td>4252.0</td>\n",
       "      <td>0.0</td>\n",
       "      <td>4</td>\n",
       "    </tr>\n",
       "  </tbody>\n",
       "</table>\n",
       "<p>306429 rows × 9 columns</p>\n",
       "</div>"
      ],
      "text/plain": [
       "           SNo ObservationDate     Province/State  Country/Region  \\\n",
       "0            1      01/22/2020              Anhui  Mainland China   \n",
       "1            2      01/22/2020            Beijing  Mainland China   \n",
       "2            3      01/22/2020          Chongqing  Mainland China   \n",
       "3            4      01/22/2020             Fujian  Mainland China   \n",
       "4            5      01/22/2020              Gansu  Mainland China   \n",
       "...        ...             ...                ...             ...   \n",
       "306424  306425      05/29/2021  Zaporizhia Oblast         Ukraine   \n",
       "306425  306426      05/29/2021            Zeeland     Netherlands   \n",
       "306426  306427      05/29/2021           Zhejiang  Mainland China   \n",
       "306427  306428      05/29/2021    Zhytomyr Oblast         Ukraine   \n",
       "306428  306429      05/29/2021       Zuid-Holland     Netherlands   \n",
       "\n",
       "                Last Update  Confirmed  Deaths  Recovered  \\\n",
       "0           1/22/2020 17:00        1.0     0.0        0.0   \n",
       "1           1/22/2020 17:00       14.0     0.0        0.0   \n",
       "2           1/22/2020 17:00        6.0     0.0        0.0   \n",
       "3           1/22/2020 17:00        1.0     0.0        0.0   \n",
       "4           1/22/2020 17:00        0.0     0.0        0.0   \n",
       "...                     ...        ...     ...        ...   \n",
       "306424  2021-05-30 04:20:55   102641.0  2335.0    95289.0   \n",
       "306425  2021-05-30 04:20:55    29147.0   245.0        0.0   \n",
       "306426  2021-05-30 04:20:55     1364.0     1.0     1324.0   \n",
       "306427  2021-05-30 04:20:55    87550.0  1738.0    83790.0   \n",
       "306428  2021-05-30 04:20:55   391559.0  4252.0        0.0   \n",
       "\n",
       "        Risk Assesment Level  \n",
       "0                          3  \n",
       "1                          3  \n",
       "2                          3  \n",
       "3                          3  \n",
       "4                          3  \n",
       "...                      ...  \n",
       "306424                     3  \n",
       "306425                     3  \n",
       "306426                     3  \n",
       "306427                     3  \n",
       "306428                     4  \n",
       "\n",
       "[306429 rows x 9 columns]"
      ]
     },
     "execution_count": 25,
     "metadata": {},
     "output_type": "execute_result"
    }
   ],
   "source": [
    "df['Risk Assesment Level'] = km\n",
    "df"
   ]
  },
  {
   "cell_type": "code",
   "execution_count": 26,
   "id": "cd0b0b4c",
   "metadata": {},
   "outputs": [
    {
     "data": {
      "image/png": "[encoded data removed]",
      "text/plain": [
       "<Figure size 576x396 with 1 Axes>"
      ]
     },
     "metadata": {},
     "output_type": "display_data"
    }
   ],
   "source": [
    "# plot the 5 clusters\n",
    "plt.scatter(\n",
    "    scaled_data[km == 0, 0], scaled_data[km == 0, 1],\n",
    "    s=50, c='grey', edgecolor='black',\n",
    "    label='cluster 1'\n",
    ")\n",
    "\n",
    "plt.scatter(\n",
    "    scaled_data[km  == 1, 0], scaled_data[km  == 1, 1],\n",
    "    s=50, c='yellow', edgecolor='black',\n",
    "    label='cluster 2'\n",
    ")\n",
    "\n",
    "plt.scatter(\n",
    "    scaled_data[km  == 2, 0], scaled_data[km  == 2, 1],\n",
    "    s=50, c='orange', edgecolor='black',\n",
    "    label='cluster 3'\n",
    ")\n",
    "\n",
    "plt.scatter(\n",
    "    scaled_data[km == 3, 0], scaled_data[km  == 3, 1],\n",
    "    s=50, c='green', edgecolor='black',\n",
    "    label='cluster 4'\n",
    ")\n",
    "\n",
    "plt.scatter(\n",
    "    scaled_data[km  == 4, 0], scaled_data[km  == 4, 1],\n",
    "    s=50, c='blue', edgecolor='black',\n",
    "    label='cluster 5'\n",
    ")\n",
    "\n",
    "# plot the centroids\n",
    "plt.scatter(\n",
    "    k_means.cluster_centers_[:, 0], k_means.cluster_centers_[:, 1],\n",
    "    s=30, c='red', edgecolor='black', label='centroids'\n",
    ")\n",
    "\n",
    "plt.legend(scatterpoints=1)\n",
    "plt.grid(False)\n",
    "plt.show()"
   ]
  },
  {
   "cell_type": "code",
   "execution_count": 27,
   "id": "fcd4a2b0",
   "metadata": {},
   "outputs": [
    {
     "data": {
      "text/html": [
       "<div>\n",
       "<style scoped>\n",
       "    .dataframe tbody tr th:only-of-type {\n",
       "        vertical-align: middle;\n",
       "    }\n",
       "\n",
       "    .dataframe tbody tr th {\n",
       "        vertical-align: top;\n",
       "    }\n",
       "\n",
       "    .dataframe thead th {\n",
       "        text-align: right;\n",
       "    }\n",
       "</style>\n",
       "<table border=\"1\" class=\"dataframe\">\n",
       "  <thead>\n",
       "    <tr style=\"text-align: right;\">\n",
       "      <th></th>\n",
       "      <th>SNo</th>\n",
       "      <th>ObservationDate</th>\n",
       "      <th>Province/State</th>\n",
       "      <th>Country/Region</th>\n",
       "      <th>Last Update</th>\n",
       "      <th>Confirmed</th>\n",
       "      <th>Deaths</th>\n",
       "      <th>Recovered</th>\n",
       "      <th>Risk Assesment Level</th>\n",
       "    </tr>\n",
       "  </thead>\n",
       "  <tbody>\n",
       "    <tr>\n",
       "      <th>0</th>\n",
       "      <td>1</td>\n",
       "      <td>01/22/2020</td>\n",
       "      <td>Anhui</td>\n",
       "      <td>Mainland China</td>\n",
       "      <td>1/22/2020 17:00</td>\n",
       "      <td>1.0</td>\n",
       "      <td>0.0</td>\n",
       "      <td>0.0</td>\n",
       "      <td>Low</td>\n",
       "    </tr>\n",
       "    <tr>\n",
       "      <th>1</th>\n",
       "      <td>2</td>\n",
       "      <td>01/22/2020</td>\n",
       "      <td>Beijing</td>\n",
       "      <td>Mainland China</td>\n",
       "      <td>1/22/2020 17:00</td>\n",
       "      <td>14.0</td>\n",
       "      <td>0.0</td>\n",
       "      <td>0.0</td>\n",
       "      <td>Low</td>\n",
       "    </tr>\n",
       "    <tr>\n",
       "      <th>2</th>\n",
       "      <td>3</td>\n",
       "      <td>01/22/2020</td>\n",
       "      <td>Chongqing</td>\n",
       "      <td>Mainland China</td>\n",
       "      <td>1/22/2020 17:00</td>\n",
       "      <td>6.0</td>\n",
       "      <td>0.0</td>\n",
       "      <td>0.0</td>\n",
       "      <td>Low</td>\n",
       "    </tr>\n",
       "    <tr>\n",
       "      <th>3</th>\n",
       "      <td>4</td>\n",
       "      <td>01/22/2020</td>\n",
       "      <td>Fujian</td>\n",
       "      <td>Mainland China</td>\n",
       "      <td>1/22/2020 17:00</td>\n",
       "      <td>1.0</td>\n",
       "      <td>0.0</td>\n",
       "      <td>0.0</td>\n",
       "      <td>Low</td>\n",
       "    </tr>\n",
       "    <tr>\n",
       "      <th>4</th>\n",
       "      <td>5</td>\n",
       "      <td>01/22/2020</td>\n",
       "      <td>Gansu</td>\n",
       "      <td>Mainland China</td>\n",
       "      <td>1/22/2020 17:00</td>\n",
       "      <td>0.0</td>\n",
       "      <td>0.0</td>\n",
       "      <td>0.0</td>\n",
       "      <td>Low</td>\n",
       "    </tr>\n",
       "    <tr>\n",
       "      <th>...</th>\n",
       "      <td>...</td>\n",
       "      <td>...</td>\n",
       "      <td>...</td>\n",
       "      <td>...</td>\n",
       "      <td>...</td>\n",
       "      <td>...</td>\n",
       "      <td>...</td>\n",
       "      <td>...</td>\n",
       "      <td>...</td>\n",
       "    </tr>\n",
       "    <tr>\n",
       "      <th>306424</th>\n",
       "      <td>306425</td>\n",
       "      <td>05/29/2021</td>\n",
       "      <td>Zaporizhia Oblast</td>\n",
       "      <td>Ukraine</td>\n",
       "      <td>2021-05-30 04:20:55</td>\n",
       "      <td>102641.0</td>\n",
       "      <td>2335.0</td>\n",
       "      <td>95289.0</td>\n",
       "      <td>Low</td>\n",
       "    </tr>\n",
       "    <tr>\n",
       "      <th>306425</th>\n",
       "      <td>306426</td>\n",
       "      <td>05/29/2021</td>\n",
       "      <td>Zeeland</td>\n",
       "      <td>Netherlands</td>\n",
       "      <td>2021-05-30 04:20:55</td>\n",
       "      <td>29147.0</td>\n",
       "      <td>245.0</td>\n",
       "      <td>0.0</td>\n",
       "      <td>Low</td>\n",
       "    </tr>\n",
       "    <tr>\n",
       "      <th>306426</th>\n",
       "      <td>306427</td>\n",
       "      <td>05/29/2021</td>\n",
       "      <td>Zhejiang</td>\n",
       "      <td>Mainland China</td>\n",
       "      <td>2021-05-30 04:20:55</td>\n",
       "      <td>1364.0</td>\n",
       "      <td>1.0</td>\n",
       "      <td>1324.0</td>\n",
       "      <td>Low</td>\n",
       "    </tr>\n",
       "    <tr>\n",
       "      <th>306427</th>\n",
       "      <td>306428</td>\n",
       "      <td>05/29/2021</td>\n",
       "      <td>Zhytomyr Oblast</td>\n",
       "      <td>Ukraine</td>\n",
       "      <td>2021-05-30 04:20:55</td>\n",
       "      <td>87550.0</td>\n",
       "      <td>1738.0</td>\n",
       "      <td>83790.0</td>\n",
       "      <td>Low</td>\n",
       "    </tr>\n",
       "    <tr>\n",
       "      <th>306428</th>\n",
       "      <td>306429</td>\n",
       "      <td>05/29/2021</td>\n",
       "      <td>Zuid-Holland</td>\n",
       "      <td>Netherlands</td>\n",
       "      <td>2021-05-30 04:20:55</td>\n",
       "      <td>391559.0</td>\n",
       "      <td>4252.0</td>\n",
       "      <td>0.0</td>\n",
       "      <td>Unknown</td>\n",
       "    </tr>\n",
       "  </tbody>\n",
       "</table>\n",
       "<p>306429 rows × 9 columns</p>\n",
       "</div>"
      ],
      "text/plain": [
       "           SNo ObservationDate     Province/State  Country/Region  \\\n",
       "0            1      01/22/2020              Anhui  Mainland China   \n",
       "1            2      01/22/2020            Beijing  Mainland China   \n",
       "2            3      01/22/2020          Chongqing  Mainland China   \n",
       "3            4      01/22/2020             Fujian  Mainland China   \n",
       "4            5      01/22/2020              Gansu  Mainland China   \n",
       "...        ...             ...                ...             ...   \n",
       "306424  306425      05/29/2021  Zaporizhia Oblast         Ukraine   \n",
       "306425  306426      05/29/2021            Zeeland     Netherlands   \n",
       "306426  306427      05/29/2021           Zhejiang  Mainland China   \n",
       "306427  306428      05/29/2021    Zhytomyr Oblast         Ukraine   \n",
       "306428  306429      05/29/2021       Zuid-Holland     Netherlands   \n",
       "\n",
       "                Last Update  Confirmed  Deaths  Recovered Risk Assesment Level  \n",
       "0           1/22/2020 17:00        1.0     0.0        0.0                  Low  \n",
       "1           1/22/2020 17:00       14.0     0.0        0.0                  Low  \n",
       "2           1/22/2020 17:00        6.0     0.0        0.0                  Low  \n",
       "3           1/22/2020 17:00        1.0     0.0        0.0                  Low  \n",
       "4           1/22/2020 17:00        0.0     0.0        0.0                  Low  \n",
       "...                     ...        ...     ...        ...                  ...  \n",
       "306424  2021-05-30 04:20:55   102641.0  2335.0    95289.0                  Low  \n",
       "306425  2021-05-30 04:20:55    29147.0   245.0        0.0                  Low  \n",
       "306426  2021-05-30 04:20:55     1364.0     1.0     1324.0                  Low  \n",
       "306427  2021-05-30 04:20:55    87550.0  1738.0    83790.0                  Low  \n",
       "306428  2021-05-30 04:20:55   391559.0  4252.0        0.0              Unknown  \n",
       "\n",
       "[306429 rows x 9 columns]"
      ]
     },
     "execution_count": 27,
     "metadata": {},
     "output_type": "execute_result"
    }
   ],
   "source": [
    "kondisi = [\n",
    "    (df['Risk Assesment Level']==0),\n",
    "    (df['Risk Assesment Level']==1),\n",
    "    (df['Risk Assesment Level']==2),\n",
    "    (df['Risk Assesment Level']==3),\n",
    "    (df['Risk Assesment Level']==4)]\n",
    "pilihan = ['Special Circumstances','High','Moderate','Low','Unknown',]\n",
    "df['Risk Assesment Level'] = np.select(kondisi, pilihan)\n",
    "df"
   ]
  },
  {
   "cell_type": "code",
   "execution_count": 28,
   "id": "060cf72a",
   "metadata": {},
   "outputs": [
    {
     "data": {
      "text/plain": [
       "Low                      266313\n",
       "Unknown                   29517\n",
       "Moderate                   7994\n",
       "High                       1956\n",
       "Special Circumstances       649\n",
       "Name: Risk Assesment Level, dtype: int64"
      ]
     },
     "execution_count": 28,
     "metadata": {},
     "output_type": "execute_result"
    }
   ],
   "source": [
    "df['Risk Assesment Level'].value_counts()"
   ]
  },
  {
   "cell_type": "code",
   "execution_count": null,
   "id": "ead94daa",
   "metadata": {},
   "outputs": [],
   "source": []
  },
  {
   "cell_type": "code",
   "execution_count": null,
   "id": "b25d9f2f",
   "metadata": {},
   "outputs": [],
   "source": []
  },
  {
   "cell_type": "markdown",
   "id": "b1a68540",
   "metadata": {},
   "source": [
    "## Klasifikasi Data"
   ]
  },
  {
   "cell_type": "markdown",
   "id": "e7dbc7f3",
   "metadata": {},
   "source": [
    "Klasifikasi data dilakukan untuk menghasilkan prediksi dari data hasil clustering menggunakan k-means. Pada klasifikasi data digunakan model SVM "
   ]
  },
  {
   "cell_type": "markdown",
   "id": "99f076ce",
   "metadata": {},
   "source": [
    "#### EDA"
   ]
  },
  {
   "cell_type": "code",
   "execution_count": 29,
   "id": "2db2c199",
   "metadata": {},
   "outputs": [
    {
     "name": "stdout",
     "output_type": "stream",
     "text": [
      "<class 'pandas.core.frame.DataFrame'>\n",
      "RangeIndex: 306429 entries, 0 to 306428\n",
      "Data columns (total 9 columns):\n",
      " #   Column                Non-Null Count   Dtype  \n",
      "---  ------                --------------   -----  \n",
      " 0   SNo                   306429 non-null  int64  \n",
      " 1   ObservationDate       306429 non-null  object \n",
      " 2   Province/State        228329 non-null  object \n",
      " 3   Country/Region        306429 non-null  object \n",
      " 4   Last Update           306429 non-null  object \n",
      " 5   Confirmed             306429 non-null  float64\n",
      " 6   Deaths                306429 non-null  float64\n",
      " 7   Recovered             306429 non-null  float64\n",
      " 8   Risk Assesment Level  306429 non-null  object \n",
      "dtypes: float64(3), int64(1), object(5)\n",
      "memory usage: 21.0+ MB\n"
     ]
    }
   ],
   "source": [
    "df.info()"
   ]
  },
  {
   "cell_type": "code",
   "execution_count": 30,
   "id": "ce2edba8",
   "metadata": {},
   "outputs": [
    {
     "data": {
      "text/plain": [
       "(306429, 9)"
      ]
     },
     "execution_count": 30,
     "metadata": {},
     "output_type": "execute_result"
    }
   ],
   "source": [
    "df.shape"
   ]
  },
  {
   "cell_type": "code",
   "execution_count": 31,
   "id": "0039a160",
   "metadata": {},
   "outputs": [
    {
     "data": {
      "text/plain": [
       "SNo                         0\n",
       "ObservationDate             0\n",
       "Province/State          78100\n",
       "Country/Region              0\n",
       "Last Update                 0\n",
       "Confirmed                   0\n",
       "Deaths                      0\n",
       "Recovered                   0\n",
       "Risk Assesment Level        0\n",
       "dtype: int64"
      ]
     },
     "execution_count": 31,
     "metadata": {},
     "output_type": "execute_result"
    }
   ],
   "source": [
    "###Missing Value\n",
    "df.isnull().sum()"
   ]
  },
  {
   "cell_type": "markdown",
   "id": "6299db63",
   "metadata": {},
   "source": [
    "## Data Cleaning dan Preprocessing"
   ]
  },
  {
   "cell_type": "code",
   "execution_count": 32,
   "id": "370f9ca5",
   "metadata": {},
   "outputs": [],
   "source": [
    "#drop kolom\n",
    "df_klas = df.drop([\"SNo\",\"ObservationDate\",\"Last Update\",\"Province/State\",\"Country/Region\"], axis=1)"
   ]
  },
  {
   "cell_type": "code",
   "execution_count": 33,
   "id": "a7be7afe",
   "metadata": {},
   "outputs": [
    {
     "data": {
      "text/html": [
       "<div>\n",
       "<style scoped>\n",
       "    .dataframe tbody tr th:only-of-type {\n",
       "        vertical-align: middle;\n",
       "    }\n",
       "\n",
       "    .dataframe tbody tr th {\n",
       "        vertical-align: top;\n",
       "    }\n",
       "\n",
       "    .dataframe thead th {\n",
       "        text-align: right;\n",
       "    }\n",
       "</style>\n",
       "<table border=\"1\" class=\"dataframe\">\n",
       "  <thead>\n",
       "    <tr style=\"text-align: right;\">\n",
       "      <th></th>\n",
       "      <th>Confirmed</th>\n",
       "      <th>Deaths</th>\n",
       "      <th>Recovered</th>\n",
       "      <th>Risk Assesment Level</th>\n",
       "    </tr>\n",
       "  </thead>\n",
       "  <tbody>\n",
       "    <tr>\n",
       "      <th>0</th>\n",
       "      <td>1.0</td>\n",
       "      <td>0.0</td>\n",
       "      <td>0.0</td>\n",
       "      <td>Low</td>\n",
       "    </tr>\n",
       "    <tr>\n",
       "      <th>1</th>\n",
       "      <td>14.0</td>\n",
       "      <td>0.0</td>\n",
       "      <td>0.0</td>\n",
       "      <td>Low</td>\n",
       "    </tr>\n",
       "    <tr>\n",
       "      <th>2</th>\n",
       "      <td>6.0</td>\n",
       "      <td>0.0</td>\n",
       "      <td>0.0</td>\n",
       "      <td>Low</td>\n",
       "    </tr>\n",
       "    <tr>\n",
       "      <th>3</th>\n",
       "      <td>1.0</td>\n",
       "      <td>0.0</td>\n",
       "      <td>0.0</td>\n",
       "      <td>Low</td>\n",
       "    </tr>\n",
       "    <tr>\n",
       "      <th>4</th>\n",
       "      <td>0.0</td>\n",
       "      <td>0.0</td>\n",
       "      <td>0.0</td>\n",
       "      <td>Low</td>\n",
       "    </tr>\n",
       "    <tr>\n",
       "      <th>...</th>\n",
       "      <td>...</td>\n",
       "      <td>...</td>\n",
       "      <td>...</td>\n",
       "      <td>...</td>\n",
       "    </tr>\n",
       "    <tr>\n",
       "      <th>306424</th>\n",
       "      <td>102641.0</td>\n",
       "      <td>2335.0</td>\n",
       "      <td>95289.0</td>\n",
       "      <td>Low</td>\n",
       "    </tr>\n",
       "    <tr>\n",
       "      <th>306425</th>\n",
       "      <td>29147.0</td>\n",
       "      <td>245.0</td>\n",
       "      <td>0.0</td>\n",
       "      <td>Low</td>\n",
       "    </tr>\n",
       "    <tr>\n",
       "      <th>306426</th>\n",
       "      <td>1364.0</td>\n",
       "      <td>1.0</td>\n",
       "      <td>1324.0</td>\n",
       "      <td>Low</td>\n",
       "    </tr>\n",
       "    <tr>\n",
       "      <th>306427</th>\n",
       "      <td>87550.0</td>\n",
       "      <td>1738.0</td>\n",
       "      <td>83790.0</td>\n",
       "      <td>Low</td>\n",
       "    </tr>\n",
       "    <tr>\n",
       "      <th>306428</th>\n",
       "      <td>391559.0</td>\n",
       "      <td>4252.0</td>\n",
       "      <td>0.0</td>\n",
       "      <td>Unknown</td>\n",
       "    </tr>\n",
       "  </tbody>\n",
       "</table>\n",
       "<p>306429 rows × 4 columns</p>\n",
       "</div>"
      ],
      "text/plain": [
       "        Confirmed  Deaths  Recovered Risk Assesment Level\n",
       "0             1.0     0.0        0.0                  Low\n",
       "1            14.0     0.0        0.0                  Low\n",
       "2             6.0     0.0        0.0                  Low\n",
       "3             1.0     0.0        0.0                  Low\n",
       "4             0.0     0.0        0.0                  Low\n",
       "...           ...     ...        ...                  ...\n",
       "306424   102641.0  2335.0    95289.0                  Low\n",
       "306425    29147.0   245.0        0.0                  Low\n",
       "306426     1364.0     1.0     1324.0                  Low\n",
       "306427    87550.0  1738.0    83790.0                  Low\n",
       "306428   391559.0  4252.0        0.0              Unknown\n",
       "\n",
       "[306429 rows x 4 columns]"
      ]
     },
     "execution_count": 33,
     "metadata": {},
     "output_type": "execute_result"
    }
   ],
   "source": [
    "df_klas"
   ]
  },
  {
   "cell_type": "code",
   "execution_count": 35,
   "id": "9a054ffa",
   "metadata": {},
   "outputs": [
    {
     "data": {
      "text/plain": [
       "Risk Assesment Level    1.000000\n",
       "Recovered              -0.200250\n",
       "Confirmed              -0.393099\n",
       "Deaths                 -0.410040\n",
       "Name: Risk Assesment Level, dtype: float64"
      ]
     },
     "execution_count": 35,
     "metadata": {},
     "output_type": "execute_result"
    }
   ],
   "source": [
    "df_klas.corr()['Risk Assesment Level'].sort_values(ascending=False)"
   ]
  },
  {
   "cell_type": "code",
   "execution_count": 36,
   "id": "1b304bed",
   "metadata": {},
   "outputs": [],
   "source": [
    "#mengecek outlier \n",
    "from scipy import stats\n",
    "df_tescor = df_klas"
   ]
  },
  {
   "cell_type": "code",
   "execution_count": 37,
   "id": "f568eee6",
   "metadata": {},
   "outputs": [],
   "source": [
    "def threshold(z,d):\n",
    "    for i in np.arange(3,5,0.2):\n",
    "        data=d.copy()\n",
    "        data=data[(z<i).all(axis=1)]\n",
    "        loss=(d.shape[0]-data.shape[0])/d.shape[0]*100\n",
    "        print('With threshold {} data loss is {}%'.format(np.round(i,1),np.round(loss,2))) "
   ]
  },
  {
   "cell_type": "code",
   "execution_count": 38,
   "id": "0af0e1d1",
   "metadata": {},
   "outputs": [
    {
     "name": "stdout",
     "output_type": "stream",
     "text": [
      "With threshold 3.0 data loss is 2.71%\n",
      "With threshold 3.2 data loss is 2.53%\n",
      "With threshold 3.4 data loss is 2.35%\n",
      "With threshold 3.6 data loss is 2.17%\n",
      "With threshold 3.8 data loss is 1.99%\n",
      "With threshold 4.0 data loss is 1.83%\n",
      "With threshold 4.2 data loss is 1.67%\n",
      "With threshold 4.4 data loss is 1.52%\n",
      "With threshold 4.6 data loss is 1.41%\n",
      "With threshold 4.8 data loss is 1.31%\n"
     ]
    }
   ],
   "source": [
    "from scipy.stats import zscore\n",
    "z=np.abs(zscore(df_tescor[df_tescor.columns]))\n",
    "threshold(z,df_tescor[df_tescor.columns])"
   ]
  },
  {
   "cell_type": "code",
   "execution_count": 39,
   "id": "df8d0731",
   "metadata": {},
   "outputs": [
    {
     "name": "stdout",
     "output_type": "stream",
     "text": [
      "Jumlah baris sebelum memfilter outlier: 306429\n",
      "Jumlah baris setelah memfilter outlier: 298132\n"
     ]
    }
   ],
   "source": [
    "print(f'Jumlah baris sebelum memfilter outlier: {len(df_tescor)}')\n",
    "\n",
    "filtered_entries = np.array([True] * len(df_tescor))\n",
    "for col in df_tescor:\n",
    "    zscore = abs(stats.zscore(df_tescor[col]))\n",
    "    filtered_entries = (zscore < 3) & filtered_entries\n",
    "    \n",
    "df_outlierZ = df_tescor[filtered_entries]\n",
    "\n",
    "print(f'Jumlah baris setelah memfilter outlier: {len(df_outlierZ)}')"
   ]
  },
  {
   "cell_type": "code",
   "execution_count": 40,
   "id": "b122548d",
   "metadata": {},
   "outputs": [
    {
     "name": "stdout",
     "output_type": "stream",
     "text": [
      "<class 'pandas.core.frame.DataFrame'>\n",
      "Int64Index: 298132 entries, 0 to 306428\n",
      "Data columns (total 4 columns):\n",
      " #   Column                Non-Null Count   Dtype  \n",
      "---  ------                --------------   -----  \n",
      " 0   Confirmed             298132 non-null  float64\n",
      " 1   Deaths                298132 non-null  float64\n",
      " 2   Recovered             298132 non-null  float64\n",
      " 3   Risk Assesment Level  298132 non-null  int32  \n",
      "dtypes: float64(3), int32(1)\n",
      "memory usage: 10.2 MB\n"
     ]
    }
   ],
   "source": [
    "df_klasifikasi = df_outlierZ\n",
    "df_klasifikasi.info()"
   ]
  },
  {
   "cell_type": "code",
   "execution_count": 41,
   "id": "2a00259d",
   "metadata": {},
   "outputs": [
    {
     "data": {
      "text/plain": [
       "Risk Assesment Level    1.000000\n",
       "Confirmed               0.459116\n",
       "Deaths                  0.442180\n",
       "Recovered               0.429941\n",
       "Name: Risk Assesment Level, dtype: float64"
      ]
     },
     "execution_count": 41,
     "metadata": {},
     "output_type": "execute_result"
    }
   ],
   "source": [
    "df_klasifikasi.corr()['Risk Assesment Level'].sort_values(ascending=False)"
   ]
  },
  {
   "cell_type": "markdown",
   "id": "8eb411a7",
   "metadata": {},
   "source": [
    "#### Preprocessing"
   ]
  },
  {
   "cell_type": "code",
   "execution_count": 42,
   "id": "ca89d3ba",
   "metadata": {},
   "outputs": [],
   "source": [
    "df_dummy = pd.get_dummies(df_klasifikasi)"
   ]
  },
  {
   "cell_type": "code",
   "execution_count": 43,
   "id": "34ebc12f",
   "metadata": {},
   "outputs": [
    {
     "name": "stdout",
     "output_type": "stream",
     "text": [
      "<class 'pandas.core.frame.DataFrame'>\n",
      "Int64Index: 298132 entries, 0 to 306428\n",
      "Data columns (total 4 columns):\n",
      " #   Column                Non-Null Count   Dtype  \n",
      "---  ------                --------------   -----  \n",
      " 0   Confirmed             298132 non-null  float64\n",
      " 1   Deaths                298132 non-null  float64\n",
      " 2   Recovered             298132 non-null  float64\n",
      " 3   Risk Assesment Level  298132 non-null  int32  \n",
      "dtypes: float64(3), int32(1)\n",
      "memory usage: 10.2 MB\n"
     ]
    }
   ],
   "source": [
    "df_dummy.info()"
   ]
  },
  {
   "cell_type": "code",
   "execution_count": 44,
   "id": "1a6100e2",
   "metadata": {},
   "outputs": [],
   "source": [
    "X = df_dummy.drop(['Risk Assesment Level'],axis = 1)\n",
    "y = df_dummy['Risk Assesment Level']"
   ]
  },
  {
   "cell_type": "code",
   "execution_count": 45,
   "id": "8402a76d",
   "metadata": {},
   "outputs": [],
   "source": [
    "#standarisasi\n",
    "from sklearn.preprocessing import MinMaxScaler\n",
    "scaler = MinMaxScaler()\n",
    "X_scaler = scaler.fit_transform(X)"
   ]
  },
  {
   "cell_type": "code",
   "execution_count": 46,
   "id": "c3f59f3f",
   "metadata": {},
   "outputs": [],
   "source": [
    "X_scaler = pd.DataFrame(X_scaler,columns = X.columns)"
   ]
  },
  {
   "cell_type": "code",
   "execution_count": 47,
   "id": "cb96b501",
   "metadata": {},
   "outputs": [
    {
     "data": {
      "text/plain": [
       "3    89.297023\n",
       "4     9.643044\n",
       "2     1.059933\n",
       "Name: Risk Assesment Level, dtype: float64"
      ]
     },
     "execution_count": 47,
     "metadata": {},
     "output_type": "execute_result"
    }
   ],
   "source": [
    "# baseline\n",
    "y.value_counts(normalize=True)*100"
   ]
  },
  {
   "cell_type": "code",
   "execution_count": 48,
   "id": "cf2c7e66",
   "metadata": {},
   "outputs": [],
   "source": [
    "#split data\n",
    "from sklearn.model_selection import train_test_split\n",
    "X_train,X_test,y_train,y_test = train_test_split(X_scaler,y,test_size = 0.3,stratify = y,random_state = 58)"
   ]
  },
  {
   "cell_type": "code",
   "execution_count": 49,
   "id": "952afff9",
   "metadata": {},
   "outputs": [
    {
     "data": {
      "text/plain": [
       "3    186356\n",
       "4     20124\n",
       "2      2212\n",
       "Name: Risk Assesment Level, dtype: int64"
      ]
     },
     "execution_count": 49,
     "metadata": {},
     "output_type": "execute_result"
    }
   ],
   "source": [
    "y_train.value_counts()"
   ]
  },
  {
   "cell_type": "markdown",
   "id": "340d0e79",
   "metadata": {},
   "source": [
    "karena data y_train tidak seimbang maka harus diseimbangkan terlebih dahulu dengan menggunakan Undersampling sehingga data akan disesuaikan dengan data latih terkecil"
   ]
  },
  {
   "cell_type": "code",
   "execution_count": 50,
   "id": "5fa25597",
   "metadata": {},
   "outputs": [],
   "source": [
    "from imblearn.under_sampling import RandomUnderSampler\n",
    "undersampling = RandomUnderSampler()\n",
    "X_under, y_under = undersampling.fit_resample(X_train,y_train)"
   ]
  },
  {
   "cell_type": "code",
   "execution_count": 51,
   "id": "e54559ca",
   "metadata": {},
   "outputs": [
    {
     "data": {
      "text/plain": [
       "2    2212\n",
       "3    2212\n",
       "4    2212\n",
       "Name: Risk Assesment Level, dtype: int64"
      ]
     },
     "execution_count": 51,
     "metadata": {},
     "output_type": "execute_result"
    }
   ],
   "source": [
    "y_under.value_counts()"
   ]
  },
  {
   "cell_type": "code",
   "execution_count": 52,
   "id": "bc512373",
   "metadata": {},
   "outputs": [
    {
     "data": {
      "text/plain": [
       "2    33.333333\n",
       "3    33.333333\n",
       "4    33.333333\n",
       "Name: Risk Assesment Level, dtype: float64"
      ]
     },
     "execution_count": 52,
     "metadata": {},
     "output_type": "execute_result"
    }
   ],
   "source": [
    "# new baseline\n",
    "y_under.value_counts(normalize=True)*100"
   ]
  },
  {
   "cell_type": "markdown",
   "id": "aa7386ae",
   "metadata": {},
   "source": [
    "## Modelling"
   ]
  },
  {
   "cell_type": "code",
   "execution_count": 53,
   "id": "1529de7c",
   "metadata": {},
   "outputs": [],
   "source": [
    "def evaluasi(model,X_test,y_test):\n",
    "    from sklearn.metrics import accuracy_score\n",
    "    y_pred = model.predict(X_test)\n",
    "    return accuracy_score(y_test,y_pred)*100"
   ]
  },
  {
   "cell_type": "code",
   "execution_count": 54,
   "id": "3fdeef59",
   "metadata": {},
   "outputs": [],
   "source": [
    "def evaluasi_auc(model,X_test,y_test):\n",
    "    from sklearn.metrics import roc_auc_score\n",
    "    y_pred = model.predict_proba(X_test)\n",
    "    return roc_auc_score(y_test,y_pred)*100"
   ]
  },
  {
   "cell_type": "markdown",
   "id": "20aa5811",
   "metadata": {},
   "source": [
    "#### Support Vector Machine"
   ]
  },
  {
   "cell_type": "code",
   "execution_count": 55,
   "id": "f69ac08a",
   "metadata": {},
   "outputs": [],
   "source": [
    "from sklearn import svm\n",
    "from sklearn.svm import SVC"
   ]
  },
  {
   "cell_type": "code",
   "execution_count": 56,
   "id": "e75f5bdf",
   "metadata": {},
   "outputs": [],
   "source": [
    "svm_model = SVC(kernel='rbf', C=1, gamma='auto')"
   ]
  },
  {
   "cell_type": "code",
   "execution_count": 57,
   "id": "a889729f",
   "metadata": {},
   "outputs": [
    {
     "data": {
      "text/plain": [
       "SVC(C=1, gamma='auto')"
      ]
     },
     "execution_count": 57,
     "metadata": {},
     "output_type": "execute_result"
    }
   ],
   "source": [
    "svm_model.fit(X_under,y_under)"
   ]
  },
  {
   "cell_type": "code",
   "execution_count": 58,
   "id": "a044b164",
   "metadata": {},
   "outputs": [
    {
     "data": {
      "text/plain": [
       "96.84816636851521"
      ]
     },
     "execution_count": 58,
     "metadata": {},
     "output_type": "execute_result"
    }
   ],
   "source": [
    "evaluasi(svm_model,X_test,y_test)"
   ]
  },
  {
   "cell_type": "code",
   "execution_count": 59,
   "id": "f2301df3",
   "metadata": {},
   "outputs": [
    {
     "data": {
      "text/plain": [
       "GridSearchCV(cv=3, estimator=SVC(C=1, gamma='auto'),\n",
       "             param_grid={'C': [0.01, 0.1, 1, 2, 3, 5]}, scoring='accuracy')"
      ]
     },
     "execution_count": 59,
     "metadata": {},
     "output_type": "execute_result"
    }
   ],
   "source": [
    "#mencari parameter terbaik\n",
    "from sklearn.model_selection import GridSearchCV\n",
    "params ={'C':[0.01,0.1,1,2,3,5]}\n",
    "\n",
    "grid = GridSearchCV(\n",
    "             estimator=svm_model, # model yang akan digunakan\n",
    "             param_grid=params, # hyperparameter yang dipilih\n",
    "             scoring = 'accuracy', # metrics evaluation\n",
    "             cv = 3 # 3-fold cross validation (artinya kita melakukan iterasi model sebanyak 3 kali)\n",
    "            )\n",
    "grid.fit(X_under,y_under)"
   ]
  },
  {
   "cell_type": "code",
   "execution_count": 60,
   "id": "761ab4f0",
   "metadata": {},
   "outputs": [
    {
     "data": {
      "text/plain": [
       "{'C': 5}"
      ]
     },
     "execution_count": 60,
     "metadata": {},
     "output_type": "execute_result"
    }
   ],
   "source": [
    "grid.best_params_"
   ]
  },
  {
   "cell_type": "code",
   "execution_count": 61,
   "id": "8a452cf5",
   "metadata": {},
   "outputs": [
    {
     "data": {
      "text/plain": [
       "0.9853827606992164"
      ]
     },
     "execution_count": 61,
     "metadata": {},
     "output_type": "execute_result"
    }
   ],
   "source": [
    "grid.best_score_"
   ]
  },
  {
   "cell_type": "code",
   "execution_count": 62,
   "id": "19cabafd",
   "metadata": {},
   "outputs": [
    {
     "name": "stdout",
     "output_type": "stream",
     "text": [
      "accuracy : 98.53828%\n"
     ]
    }
   ],
   "source": [
    "print('accuracy : {0:.5f}%'.format(grid.best_score_*100))"
   ]
  },
  {
   "cell_type": "code",
   "execution_count": null,
   "id": "c85d6dce",
   "metadata": {},
   "outputs": [],
   "source": []
  },
  {
   "cell_type": "code",
   "execution_count": null,
   "id": "e1d1723c",
   "metadata": {},
   "outputs": [],
   "source": []
  },
  {
   "cell_type": "code",
   "execution_count": null,
   "id": "50d0938a",
   "metadata": {},
   "outputs": [],
   "source": []
  },
  {
   "cell_type": "code",
   "execution_count": null,
   "id": "887d3880",
   "metadata": {},
   "outputs": [],
   "source": []
  },
  {
   "cell_type": "markdown",
   "id": "9d52567d",
   "metadata": {},
   "source": [
    "#### Pengujian Data Baru"
   ]
  },
  {
   "cell_type": "code",
   "execution_count": 63,
   "id": "aea44cd7",
   "metadata": {},
   "outputs": [
    {
     "name": "stdout",
     "output_type": "stream",
     "text": [
      "Masukkan Angka Terkonfirmasi COVID-19 Wilayah : 58\n",
      "Masukkan Angka Kematian akibat COVID-19 Wilayah : 9\n",
      "Masukkan Angka Terkonfirmasi COVID-19 Wilayah : 335\n"
     ]
    }
   ],
   "source": [
    "confirm = int(input(\"Masukkan Angka Terkonfirmasi COVID-19 Wilayah : \"))\n",
    "death = int(input(\"Masukkan Angka Kematian akibat COVID-19 Wilayah : \"))\n",
    "recovered = int(input(\"Masukkan Angka Sembuh COVID-19 Wilayah : \"))"
   ]
  },
  {
   "cell_type": "code",
   "execution_count": 64,
   "id": "cfb900ed",
   "metadata": {},
   "outputs": [],
   "source": [
    "data_test=[[confirm,death,recovered]]"
   ]
  },
  {
   "cell_type": "code",
   "execution_count": 65,
   "id": "d112e7c7",
   "metadata": {},
   "outputs": [
    {
     "name": "stderr",
     "output_type": "stream",
     "text": [
      "c:\\users\\lenovo\\appdata\\local\\programs\\python\\python37\\lib\\site-packages\\sklearn\\base.py:446: UserWarning: X does not have valid feature names, but SVC was fitted with feature names\n",
      "  \"X does not have valid feature names, but\"\n"
     ]
    },
    {
     "data": {
      "text/plain": [
       "array([2])"
      ]
     },
     "execution_count": 65,
     "metadata": {},
     "output_type": "execute_result"
    }
   ],
   "source": [
    "pengujian = svm_model.predict(data_test)\n",
    "if"
   ]
  },
  {
   "cell_type": "code",
   "execution_count": null,
   "id": "ba974eed",
   "metadata": {},
   "outputs": [],
   "source": []
  },
  {
   "cell_type": "markdown",
   "id": "6b33f74e",
   "metadata": {},
   "source": [
    "# Conclusion"
   ]
  },
  {
   "cell_type": "code",
   "execution_count": null,
   "id": "b2af0425",
   "metadata": {},
   "outputs": [],
   "source": []
  },
  {
   "cell_type": "markdown",
   "id": "b42d4ad4",
   "metadata": {},
   "source": [
    "# Daftar Pustaka"
   ]
  },
  {
   "cell_type": "markdown",
   "id": "a3f9fea5",
   "metadata": {},
   "source": [
    "Berikut beberapa referensi yang digunakan:\n",
    "1. Indraputra, R.A., R.Fitriana, 2020, K-Means Clustering Data COVID-19, Jurnal Teknik Industri, 10(3), pp 275-282.\n",
    "2. Center for Disease Control and Protection, \"Travel Recommendations by Destination\" https://www.cdc.gov/coronavirus/2019-ncov/travelers/map-and-travel-notices.html\n",
    "3. https://blog.rosihanari.net/tutorial-k-means-clustering-dengan-python/\n",
    "4. Breast Cancer Classifier"
   ]
  },
  {
   "cell_type": "code",
   "execution_count": null,
   "id": "72087e2d",
   "metadata": {},
   "outputs": [],
   "source": []
  }
 ],
 "metadata": {
  "kernelspec": {
   "display_name": "Python 3 (ipykernel)",
   "language": "python",
   "name": "python3"
  },
  "language_info": {
   "codemirror_mode": {
    "name": "ipython",
    "version": 3
   },
   "file_extension": ".py",
   "mimetype": "text/x-python",
   "name": "python",
   "nbconvert_exporter": "python",
   "pygments_lexer": "ipython3",
   "version": "3.7.9"
  }
 },
 "nbformat": 4,
 "nbformat_minor": 5
}
